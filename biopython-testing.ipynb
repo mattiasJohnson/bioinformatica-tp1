{
 "cells": [
  {
   "cell_type": "code",
   "execution_count": 3,
   "source": [
    "from Bio import SeqIO\n",
    "\n",
    "\n",
    "for seq_record in SeqIO.parse(\"files/CP011547.gbk\", \"genbank\"):\n",
    "    # print(f\"ID: {seq_record.id}\")\n",
    "    # print(repr(seq_record.seq))\n",
    "    # print(f\"Number of nucleotides: {len(seq_record)}\")\n",
    "\n",
    "    seq_record.translate()\n",
    "    translation = seq_record.translate()\n",
    "    \n",
    "    print(seq_record)\n",
    "    print(\"=========================================\")\n",
    "    print(translation)\n",
    "\n",
    "    \n",
    "    # SeqIO.write(seq_record, f\"{seq_record.id}.fasta\", \"fasta\")\n",
    "     \n",
    "\n"
   ],
   "outputs": [
    {
     "output_type": "stream",
     "name": "stdout",
     "text": [
      "ID: CP011547.1\n",
      "Name: CP011547\n",
      "Description: Saccharomyces cerevisiae strain ySR127 chromosome I, complete sequence\n",
      "Database cross-references: BioProject:PRJNA282006, BioSample:SAMN03565668\n",
      "Number of features: 1\n",
      "/molecule_type=DNA\n",
      "/topology=linear\n",
      "/data_file_division=PLN\n",
      "/date=11-AUG-2015\n",
      "/accessions=['CP011547']\n",
      "/sequence_version=1\n",
      "/keywords=['']\n",
      "/source=Saccharomyces cerevisiae (baker's yeast)\n",
      "/organism=Saccharomyces cerevisiae\n",
      "/taxonomy=['Eukaryota', 'Fungi', 'Dikarya', 'Ascomycota', 'Saccharomycotina', 'Saccharomycetes', 'Saccharomycetales', 'Saccharomycetaceae', 'Saccharomyces']\n",
      "/references=[Reference(title='Hypermutability of damaged single-strand DNA formed at double-strand breaks and uncapped telomeres in yeast Saccharomyces cerevisiae', ...), Reference(title='Base damage within single-strand DNA underlies in vivo hypermutability induced by a ubiquitous environmental agent', ...), Reference(title='An APOBEC3A hypermutation signature is distinguishable from the signature of background mutagenesis by APOBEC3B in human cancers', ...), Reference(title='Direct Submission', ...)]\n",
      "/comment=The three reporter genes, ADE2, URA3, and CAN1, were deleted from\n",
      "their native genomic locations in strain DAG760 (refer to Yang et\n",
      "al., 2008) and re-inserted into the LYS2 gene previously moved from\n",
      "its normal location into the left subtelomeric region of Chromosome\n",
      "5 near a de novo telomere.  Left telomere is truncated.\n",
      "/structured_comment=OrderedDict([('Genome-Assembly-Data', OrderedDict([('Assembly Method', 'CLC Genomics v. 6'), ('Reference-guided Assembly', 'GCA_000146045.2'), ('Genome Coverage', '186'), ('Sequencing Technology', 'Illumina')]))])\n",
      "Seq('CCACACCACACCCACACACCCACACACCACACCACACACCACACCACACCCACA...GGG')\n",
      "=========================================\n",
      "ID: <unknown id>\n",
      "Name: <unknown name>\n",
      "Description: <unknown description>\n",
      "Number of features: 0\n",
      "/molecule_type=protein\n",
      "Seq('PHHTHTPTHHTTHHTTPTHTHPNTTLTQP*SNPGQPVSQLTLHYPASTRYPVPF...VCG')\n"
     ]
    }
   ],
   "metadata": {}
  },
  {
   "cell_type": "code",
   "execution_count": 38,
   "source": [
    "seq_record = SeqIO.parse(\"files/CP011547.gbk\", \"genbank\")\n",
    "\n",
    "print(seq_record)\n",
    "\n",
    "# print(f\"ID: {seq_record.id}\")\n",
    "# print(repr(seq_record.seq))\n",
    "# print(f\"Number of nucleotides: {len(seq_record)}\")\n",
    "\n",
    "# print()\n",
    "# print(seq_record.translate())\n",
    "     "
   ],
   "outputs": [
    {
     "output_type": "stream",
     "name": "stdout",
     "text": [
      "<Bio.SeqIO.InsdcIO.GenBankIterator object at 0x7fc6f2d34668>\n"
     ]
    }
   ],
   "metadata": {}
  }
 ],
 "metadata": {
  "kernelspec": {
   "name": "python3",
   "display_name": "Python 3.6.7 64-bit ('itba-bio': conda)"
  },
  "language_info": {
   "codemirror_mode": {
    "name": "ipython",
    "version": 3
   },
   "file_extension": ".py",
   "mimetype": "text/x-python",
   "name": "python",
   "nbconvert_exporter": "python",
   "pygments_lexer": "ipython3",
   "version": "3.6.7"
  },
  "interpreter": {
   "hash": "e82287cb29de157afc3256a9fc8ee0ee65553fc85c60b8f5e63acfeed320292a"
  }
 },
 "nbformat": 4,
 "nbformat_minor": 4
}