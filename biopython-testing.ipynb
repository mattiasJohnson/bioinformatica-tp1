{
 "cells": [
  {
   "cell_type": "markdown",
   "metadata": {},
   "source": [
    "# From the web"
   ]
  },
  {
   "cell_type": "code",
   "execution_count": 14,
   "metadata": {},
   "outputs": [
    {
     "name": "stdout",
     "output_type": "stream",
     "text": [
      "hej\n"
     ]
    },
    {
     "ename": "ImportError",
     "evalue": "cannot import name 'maketrans'",
     "output_type": "error",
     "traceback": [
      "\u001b[0;31m---------------------------------------------------------------------------\u001b[0m",
      "\u001b[0;31mImportError\u001b[0m                               Traceback (most recent call last)",
      "\u001b[0;32m<ipython-input-14-e17da572fa99>\u001b[0m in \u001b[0;36m<module>\u001b[0;34m()\u001b[0m\n\u001b[1;32m      1\u001b[0m \u001b[0mprint\u001b[0m\u001b[0;34m(\u001b[0m\u001b[0;34m\"hej\"\u001b[0m\u001b[0;34m)\u001b[0m\u001b[0;34m\u001b[0m\u001b[0;34m\u001b[0m\u001b[0m\n\u001b[1;32m      2\u001b[0m \u001b[0;32mimport\u001b[0m \u001b[0mre\u001b[0m\u001b[0;34m\u001b[0m\u001b[0;34m\u001b[0m\u001b[0m\n\u001b[0;32m----> 3\u001b[0;31m \u001b[0;32mfrom\u001b[0m \u001b[0mstring\u001b[0m \u001b[0;32mimport\u001b[0m \u001b[0mmaketrans\u001b[0m\u001b[0;34m\u001b[0m\u001b[0;34m\u001b[0m\u001b[0m\n\u001b[0m\u001b[1;32m      4\u001b[0m \u001b[0;34m\u001b[0m\u001b[0m\n\u001b[1;32m      5\u001b[0m \u001b[0mpattern\u001b[0m \u001b[0;34m=\u001b[0m \u001b[0mre\u001b[0m\u001b[0;34m.\u001b[0m\u001b[0mcompile\u001b[0m\u001b[0;34m(\u001b[0m\u001b[0;34mr'(?=(ATG(?:...)*?)(?=TAG|TGA|TAA))'\u001b[0m\u001b[0;34m)\u001b[0m\u001b[0;34m\u001b[0m\u001b[0;34m\u001b[0m\u001b[0m\n",
      "\u001b[0;31mImportError\u001b[0m: cannot import name 'maketrans'"
     ]
    }
   ],
   "source": [
    "import re\n",
    "from string import maketrans\n",
    "\n",
    "pattern = re.compile(r'(?=(ATG(?:...)*?)(?=TAG|TGA|TAA))')\n",
    "\n",
    "def revcomp(dna_seq):\n",
    "    return dna_seq[::-1].translate(maketrans(\"ATGC\",\"TACG\"))\n",
    "\n",
    "def orfs(dna):\n",
    "    return set(pattern.findall(dna) + pattern.findall(revcomp(dna)))\n",
    "\n",
    "print( orfs(seq))"
   ]
  },
  {
   "cell_type": "code",
   "execution_count": 29,
   "metadata": {},
   "outputs": [
    {
     "name": "stdout",
     "output_type": "stream",
     "text": [
      "RVMATKAVCVLKGDGPVQGIINFEQKESNG...IAQ - length 156, strand 1, frame 2\n",
      "GASDYIQGNVYWAIPITPQAKRLPAFPVFV...GLK - length 101, strand -1, frame 0\n"
     ]
    },
    {
     "name": "stderr",
     "output_type": "stream",
     "text": [
      "/home/mattias/anaconda3/envs/itba-bio/lib/python3.6/site-packages/Bio/Seq.py:2983: BiopythonWarning: Partial codon, len(sequence) not a multiple of three. Explicitly trim the sequence or add trailing N before translation. This may become an error in future.\n",
      "  BiopythonWarning,\n"
     ]
    }
   ],
   "source": [
    "\n",
    "\n",
    "table = 1\n",
    "min_pro_len = 100\n",
    "\n",
    "for strand, nuc in [(+1, seq), (-1, seq.reverse_complement())]:\n",
    "    for frame in range(3):\n",
    "        for pro in nuc[frame:].translate(table).split(\"*\"):\n",
    "            if len(pro) >= min_pro_len:\n",
    "                print(\"%s...%s - length %i, strand %i, frame %i\" % (pro[:30], pro[-3:], len(pro), strand, frame))\n"
   ]
  },
  {
   "cell_type": "code",
   "execution_count": 33,
   "metadata": {},
   "outputs": [
    {
     "name": "stdout",
     "output_type": "stream",
     "text": [
      "RVMATKAVCVLKGDGPVQGIINFEQKESNG...IAQ - length 156, strand 1, 71:542\n",
      "GASDYIQGNVYWAIPITPQAKRLPAFPVFV...GLK - length 101, strand -1, 265:571\n"
     ]
    },
    {
     "name": "stderr",
     "output_type": "stream",
     "text": [
      "/home/mattias/anaconda3/envs/itba-bio/lib/python3.6/site-packages/Bio/Seq.py:2983: BiopythonWarning: Partial codon, len(sequence) not a multiple of three. Explicitly trim the sequence or add trailing N before translation. This may become an error in future.\n",
      "  BiopythonWarning,\n"
     ]
    }
   ],
   "source": [
    "from Bio import SeqIO\n",
    "\n",
    "record = SeqIO.read(\"files/ej1/SOD1_mrna.gb\", \"genbank\")\n",
    "table = 1\n",
    "min_pro_len = 100\n",
    "\n",
    "\n",
    "def find_orfs_with_trans(seq, trans_table, min_protein_length):\n",
    "    answer = []\n",
    "    seq_len = len(seq)\n",
    "    for strand, nuc in [(+1, seq), (-1, seq.reverse_complement())]:\n",
    "        for frame in range(3):\n",
    "            trans = nuc[frame:].translate(trans_table)\n",
    "            trans_len = len(trans)\n",
    "            aa_start = 0\n",
    "            aa_end = 0\n",
    "            while aa_start < trans_len:\n",
    "                aa_end = trans.find(\"*\", aa_start)\n",
    "                if aa_end == -1:\n",
    "                    aa_end = trans_len\n",
    "                if aa_end - aa_start >= min_protein_length:\n",
    "                    if strand == 1:\n",
    "                        start = frame + aa_start * 3\n",
    "                        end = min(seq_len, frame + aa_end * 3 + 3)\n",
    "                    else:\n",
    "                        start = seq_len - frame - aa_end * 3 - 3\n",
    "                        end = seq_len - frame - aa_start * 3\n",
    "                    answer.append((start, end, strand, trans[aa_start:aa_end]))\n",
    "                aa_start = aa_end + 1\n",
    "    answer.sort()\n",
    "    return answer\n",
    "\n",
    "\n",
    "orf_list = find_orfs_with_trans(record.seq, table, min_pro_len)\n",
    "for start, end, strand, pro in orf_list:\n",
    "    print(\n",
    "        \"%s...%s - length %i, strand %i, %i:%i\"\n",
    "        % (pro[:30], pro[-3:], len(pro), strand, start, end)\n",
    "    )"
   ]
  },
  {
   "cell_type": "markdown",
   "metadata": {},
   "source": [
    "# Own functions"
   ]
  },
  {
   "cell_type": "code",
   "execution_count": 68,
   "metadata": {},
   "outputs": [
    {
     "name": "stdout",
     "output_type": "stream",
     "text": [
      "ID: NM_000454.5\n",
      "Name: NM_000454\n",
      "Description: Homo sapiens superoxide dismutase 1 (SOD1), mRNA\n",
      "Number of features: 17\n",
      "/molecule_type=mRNA\n",
      "Seq('GCGTCGTAGTCTCCTGCAGCGTCTGGGGTTTCCGTTGCAGTCCTCGGAACCAGG...TAA')\n",
      "0\n",
      "\n",
      "ID: NM_000454.5\n",
      "Name: NM_000454\n",
      "Description: Homo sapiens superoxide dismutase 1 (SOD1), mRNA\n",
      "Number of features: 18\n",
      "/molecule_type=mRNA\n",
      "Seq('CGTCGTAGTCTCCTGCAGCGTCTGGGGTTTCCGTTGCAGTCCTCGGAACCAGGA...AAA')\n",
      "0\n",
      "\n",
      "ID: NM_000454.5\n",
      "Name: NM_000454\n",
      "Description: Homo sapiens superoxide dismutase 1 (SOD1), mRNA\n",
      "Number of features: 16\n",
      "/molecule_type=mRNA\n",
      "Seq('GTCGTAGTCTCCTGCAGCGTCTGGGGTTTCCGTTGCAGTCCTCGGAACCAGGAC...CTA')\n",
      "0\n",
      "\n",
      "ID: NM_000454.5\n",
      "Name: NM_000454\n",
      "Description: Homo sapiens superoxide dismutase 1 (SOD1), mRNA\n",
      "Number of features: 0\n",
      "/molecule_type=mRNA\n",
      "Seq('AAATCAAACTTAAACCTAAGAAAATTATCGGAGTATTATTCACGGTATGTCCCA...TGC')\n",
      "0\n",
      "\n",
      "ID: NM_000454.5\n",
      "Name: NM_000454\n",
      "Description: Homo sapiens superoxide dismutase 1 (SOD1), mRNA\n",
      "Number of features: 0\n",
      "/molecule_type=mRNA\n",
      "Seq('AATCAAACTTAAACCTAAGAAAATTATCGGAGTATTATTCACGGTATGTCCCAA...GCG')\n",
      "0\n",
      "\n",
      "ID: NM_000454.5\n",
      "Name: NM_000454\n",
      "Description: Homo sapiens superoxide dismutase 1 (SOD1), mRNA\n",
      "Number of features: 0\n",
      "/molecule_type=mRNA\n",
      "Seq('ATCAAACTTAAACCTAAGAAAATTATCGGAGTATTATTCACGGTATGTCCCAAA...CTG')\n",
      "0\n",
      "\n"
     ]
    }
   ],
   "source": [
    "sequence_full = list(SeqIO.parse(\"files/ej1/SOD1_mrna.gb\", \"genbank\"))[0]\n",
    "\n",
    "reading_frames = createReadingFrames(sequence_full)\n",
    "\n",
    "\n",
    "for key, sequence in reading_frames.items():\n",
    "    print(sequence)\n",
    "    print(len(sequence)%3)\n",
    "    print()"
   ]
  },
  {
   "cell_type": "code",
   "execution_count": 66,
   "metadata": {},
   "outputs": [],
   "source": [
    "# Returns the 6 reading frames in a dictionary\n",
    "def createReadingFrames(sequence_full):\n",
    "    # Create reading frames\n",
    "    reading_frames = {}\n",
    "\n",
    "    # Create forward reading frames\n",
    "    for i in range(3):\n",
    "        reading_frames[i+1] = sequence_full[i:]\n",
    "\n",
    "    # Create reverse reading frames\n",
    "    sequence_full_reverse = sequence_full[::-1]\n",
    "    for i in range(3):\n",
    "        reading_frames[-(i+1)] = sequence_full_reverse[i:]\n",
    "\n",
    "    # Ensure divisible by 3 by truncation\n",
    "    for key, sequence in reading_frames.items():\n",
    "            n_extra_nucleotides = len(sequence) % 3\n",
    "            if n_extra_nucleotides != 0:\n",
    "                reading_frames[key] = sequence[:-n_extra_nucleotides]\n",
    "\n",
    "    return reading_frames"
   ]
  },
  {
   "cell_type": "code",
   "execution_count": 22,
   "metadata": {},
   "outputs": [],
   "source": [
    "def findORF(sequence, n_codons_min):\n",
    "# Add complements?\n",
    "    codons_start_RNA = [\"AUG\"]\n",
    "    codons_start_DNA = [\"ATG\"]\n",
    "    codons_start = codons_start_RNA + codons_start_DNA\n",
    "\n",
    "    codons_stop_RNA = [\"UAG\", \"UAA\", \"UGA\"]\n",
    "    codons_stop_DNA = [\"TAG\", \"TAA\", \"TGA\", \"GAC\"]\n",
    "    codons_stop = codons_stop_RNA + codons_stop_DNA\n",
    "\n",
    "\n",
    "# Split by stop codons\n",
    "    ORF_indices_list = []\n",
    "    idx_split_start = 0\n",
    "    for i in range(0, len(sequence), 3):\n",
    "        codon = str(sequence[i:i+3])\n",
    "        \n",
    "        # Check if stop codon\n",
    "        if codon in codons_stop or i == len(sequence)-3:\n",
    "            idx_split_end = i\n",
    "            \n",
    "            # Skip if split is below minumum length\n",
    "            split_length = (idx_split_end -idx_split_start)/3\n",
    "            if split_length < n_codons_min:\n",
    "                idx_split_start = idx_split_end + 3\n",
    "                continue\n",
    "\n",
    "            # Check for orfs by finding start codons\n",
    "            for j in range(idx_split_start, idx_split_end, 3):\n",
    "                codon_orf = str(sequence[j:j+3])\n",
    "\n",
    "                if codon_orf in codons_start:\n",
    "                    idx_start = j\n",
    "                    idx_end = idx_split_end -3 # -3 since should not include end codon\n",
    "                    indices = (idx_start, idx_end)\n",
    "                    codon_length = (idx_end - idx_start)/3\n",
    "                    \n",
    "                    if codon_length >= n_codons_min:\n",
    "                        print(f\"start: {j}, end codon (not included): {idx_split_end} with length {codon_length}\")\n",
    "                        print()\n",
    "                        ORF_indices_list.append(indices)\n",
    "                    \n",
    "            # New start index\n",
    "            idx_split_start = idx_split_end\n",
    "            \n",
    "    return ORF_indices_list\n",
    "\n",
    "\n",
    "\n",
    "# Search each split for start codons"
   ]
  },
  {
   "cell_type": "code",
   "execution_count": 56,
   "metadata": {},
   "outputs": [
    {
     "data": {
      "text/plain": [
       "Seq('GCGTCGTAGTCTCCTGCAGCGTCTGGGGTTTCCGTTGCAGTCCTCGGAACCAGG...AAA')"
      ]
     },
     "execution_count": 56,
     "metadata": {},
     "output_type": "execute_result"
    }
   ],
   "source": [
    "sequence_full.seq"
   ]
  },
  {
   "cell_type": "code",
   "execution_count": 70,
   "metadata": {},
   "outputs": [
    {
     "name": "stdout",
     "output_type": "stream",
     "text": [
      "start: 18, end codon (not included): 105 with length 28.0\n",
      "\n",
      "start: 33, end codon (not included): 105 with length 23.0\n",
      "\n",
      "start: 108, end codon (not included): 126 with length 5.0\n",
      "\n"
     ]
    },
    {
     "data": {
      "text/plain": [
       "[(18, 102), (33, 102), (108, 123)]"
      ]
     },
     "execution_count": 70,
     "metadata": {},
     "output_type": "execute_result"
    }
   ],
   "source": [
    "seq_test_1 = \"GCCATTCTTGCCATTCTTAUGGCCATTCTTGCCATTCTTGCCATTCTTGCCATTCTTGCCATTCTTGCCATTCTTGCCATTCTTGCCATTCTTGCCATTCTTTAGGCCATTCTTGCCATTCTT\"\n",
    "\n",
    "seq_test_2 = \"GCCATTCTTGCCATTCTTAUGGCCATTCTTGCCAUGATTCTTGCCATTCTTGCCATTCTTGCCATTCTTGCCATTCTTGCCATTCTTGCCATTCTTGCCATTCTTTAGAUGGCCATTCTTGCCATTCTT\"\n",
    "\n",
    "seq_test_3 = \"GCCTAGGCCTAGGCCTAGGCCGCCTAGGCCGCC\"\n",
    "\n",
    "findOrf(seq_test_2, 1)"
   ]
  },
  {
   "cell_type": "code",
   "execution_count": 75,
   "metadata": {},
   "outputs": [
    {
     "name": "stdout",
     "output_type": "stream",
     "text": [
      "frame: 1\n",
      "start: 207, end codon (not included): 339 with length 43.0\n",
      "\n",
      "start: 216, end codon (not included): 339 with length 40.0\n",
      "\n",
      "start: 222, end codon (not included): 339 with length 38.0\n",
      "\n",
      "start: 306, end codon (not included): 339 with length 10.0\n",
      "\n",
      "start: 354, end codon (not included): 387 with length 10.0\n",
      "\n",
      "start: 438, end codon (not included): 522 with length 27.0\n",
      "\n",
      "start: 450, end codon (not included): 522 with length 23.0\n",
      "\n",
      "start: 471, end codon (not included): 522 with length 16.0\n",
      "\n",
      "start: 789, end codon (not included): 861 with length 23.0\n",
      "\n",
      "\n",
      "frame: 2\n",
      "\n",
      "frame: 3\n",
      "start: 75, end codon (not included): 108 with length 10.0\n",
      "\n",
      "start: 846, end codon (not included): 888 with length 13.0\n",
      "\n",
      "\n",
      "frame: -1\n",
      "\n",
      "frame: -2\n",
      "start: 294, end codon (not included): 333 with length 12.0\n",
      "\n",
      "start: 411, end codon (not included): 444 with length 10.0\n",
      "\n",
      "start: 738, end codon (not included): 774 with length 11.0\n",
      "\n",
      "\n",
      "frame: -3\n",
      "\n"
     ]
    }
   ],
   "source": [
    "# sequence = reading_frames[1]\n",
    "n_codons_min = 10 \n",
    "\n",
    "for key, sequence in reading_frames.items():\n",
    "    print(f\"frame: {key}\")\n",
    "    # print(sequence)\n",
    "    # print(len(sequence))\n",
    "    findOrf(sequence.seq, n_codons_min)\n",
    "    print()"
   ]
  },
  {
   "cell_type": "code",
   "execution_count": 78,
   "metadata": {},
   "outputs": [
    {
     "name": "stdout",
     "output_type": "stream",
     "text": [
      "idx:99, start codon: ATG\n",
      "idx:111, stop codon: TAA\n",
      "idx:210, start codon: ATG\n",
      "idx:216, start codon: ATG\n",
      "idx:228, stop codon: TGA\n",
      "idx:231, stop codon: GAC\n",
      "idx:249, start codon: ATG\n",
      "idx:252, stop codon: TGA\n",
      "idx:261, stop codon: TAA\n",
      "idx:336, start codon: ATG\n",
      "idx:339, stop codon: TAG\n",
      "idx:363, stop codon: TAG\n",
      "idx:369, stop codon: TAA\n"
     ]
    }
   ],
   "source": [
    "orf = \"ATGGCGACGAAGGCCGTGTGCGTGCTGAAGGGCGACGGCCCAGTGCAGGGCATCATCAATTTCGAGCAGAAGGAAAGTAATGGACCAGTGAAGGTGTGGGGAAGCATTAAAGGACTGACTGAAGGCCTGCATGGATTCCATGTTCATGAGTTTGGAGATAATACAGCAGGCTGTACCAGTGCAGGTCCTCACTTTAATCCTCTATCCAGAAAACACGGTGGGCCAAAGGATGAAGAGAGGCATGTTGGAGACTTGGGCAATGTGACTGCTGACAAAGATGGTGTGGCCGATGTGTCTATTGAAGATTCTGTGATCTCACTCTCAGGAGACCATTGCATCATTGGCCGCACACTGGTGGTCCATGAAAAAGCAGATGACTTGGGCAAAGGTGGAAATGAAGAAAGTACAAAGACAGGAAACGCTGGAAGTCGTTTGGCTTGTGGTGTAATTGGGATCGCCCAATAA\"\n",
    "\n",
    "codons_start_RNA = [\"AUG\"]\n",
    "codons_start_DNA = [\"ATG\"]\n",
    "codons_start = codons_start_RNA + codons_start_DNA\n",
    "\n",
    "codons_stop_RNA = [\"UAG\", \"UAA\", \"UGA\"]\n",
    "codons_stop_DNA = [\"TAG\", \"TAA\", \"TGA\", \"GAC\"]\n",
    "codons_stop = codons_stop_RNA + codons_stop_DNA\n",
    "\n",
    "sequence = reading_frames[-1].seq\n",
    "\n",
    "for i in range(0, len(orf), 3):\n",
    "    codon = str(sequence[i:i+3])\n",
    "    if codon in codons_start:\n",
    "        print(f\"idx:{i}, start codon: {codon}\")\n",
    "\n",
    "    if codon in codons_stop:\n",
    "        print(f\"idx:{i}, stop codon: {codon}\")"
   ]
  }
 ],
 "metadata": {
  "interpreter": {
   "hash": "927664c32a0bfd2cf059fdf7fff4b453794f620597467509c3d77ddcc9e607d4"
  },
  "kernelspec": {
   "display_name": "Python 3.6.7 64-bit ('itba-bio': conda)",
   "name": "python3"
  },
  "language_info": {
   "codemirror_mode": {
    "name": "ipython",
    "version": 3
   },
   "file_extension": ".py",
   "mimetype": "text/x-python",
   "name": "python",
   "nbconvert_exporter": "python",
   "pygments_lexer": "ipython3",
   "version": "3.6.7"
  }
 },
 "nbformat": 4,
 "nbformat_minor": 4
}
